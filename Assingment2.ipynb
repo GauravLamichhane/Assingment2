{
 "cells": [
  {
   "cell_type": "markdown",
   "id": "ef4af56b-068f-4af4-8910-74e29be73a6a",
   "metadata": {},
   "source": [
    "### 1. Array Creation"
   ]
  },
  {
   "cell_type": "markdown",
   "id": "84f6a6e7-0b93-4af6-86ed-e8205c3de854",
   "metadata": {},
   "source": [
    "### Create a 1-dimensional array of integers from 1 to 10"
   ]
  },
  {
   "cell_type": "code",
   "execution_count": 2,
   "id": "05fb0148-59a4-4633-bef5-2ef1bdaba8e1",
   "metadata": {},
   "outputs": [
    {
     "data": {
      "text/plain": [
       "array([ 1,  2,  3,  4,  5,  6,  7,  8,  9, 10])"
      ]
     },
     "execution_count": 2,
     "metadata": {},
     "output_type": "execute_result"
    }
   ],
   "source": [
    "import numpy as np\n",
    "array_1_to_10 = np.arange(1,11)\n",
    "array_1_to_10"
   ]
  },
  {
   "cell_type": "markdown",
   "id": "13c52837-5133-4a72-ba73-c42da0741efa",
   "metadata": {},
   "source": [
    "### Create a 2-dimensional array with random float values of shape (3, 4)."
   ]
  },
  {
   "cell_type": "code",
   "execution_count": 8,
   "id": "01006383-942b-4627-b3f1-e3cf24ea7807",
   "metadata": {},
   "outputs": [
    {
     "data": {
      "text/plain": [
       "array([[0.14357289, 0.76938486, 0.81967322, 0.56468568],\n",
       "       [0.83089414, 0.75492721, 0.088466  , 0.92492148],\n",
       "       [0.2572619 , 0.58021035, 0.72185253, 0.56774537]])"
      ]
     },
     "execution_count": 8,
     "metadata": {},
     "output_type": "execute_result"
    }
   ],
   "source": [
    "array_2d = np.random.rand(3,4)\n",
    "array_2d"
   ]
  },
  {
   "cell_type": "markdown",
   "id": "257c26c5-4edc-481d-a714-61081ea5aeb7",
   "metadata": {},
   "source": [
    "### Create a 3-dimensional array of zeros with shape (2, 3, 4)."
   ]
  },
  {
   "cell_type": "code",
   "execution_count": 12,
   "id": "144dcaad-8adf-4143-9083-677020cf3bf6",
   "metadata": {},
   "outputs": [
    {
     "data": {
      "text/plain": [
       "array([[[0., 0., 0., 0.],\n",
       "        [0., 0., 0., 0.],\n",
       "        [0., 0., 0., 0.]],\n",
       "\n",
       "       [[0., 0., 0., 0.],\n",
       "        [0., 0., 0., 0.],\n",
       "        [0., 0., 0., 0.]]])"
      ]
     },
     "execution_count": 12,
     "metadata": {},
     "output_type": "execute_result"
    }
   ],
   "source": [
    "array_3d = np.zeros((2,3,4))\n",
    "array_3d"
   ]
  },
  {
   "cell_type": "markdown",
   "id": "bbb726c9-5f56-42ed-abcf-a05eb983bfd7",
   "metadata": {},
   "source": [
    "### 2. Array Operations"
   ]
  },
  {
   "cell_type": "markdown",
   "id": "af93ba4d-a263-41ab-9c83-e89855afcc8f",
   "metadata": {},
   "source": [
    "### Given two 1-dimensional arrays, perform element-wise addition,\n",
    "\n",
    "subtractin, multiplication, and division."
   ]
  },
  {
   "cell_type": "code",
   "execution_count": 27,
   "id": "303b3a5b-f0fa-49a0-bf4e-9230f13f108d",
   "metadata": {},
   "outputs": [
    {
     "data": {
      "text/plain": [
       "array([ 5, 12, 21, 32])"
      ]
     },
     "execution_count": 27,
     "metadata": {},
     "output_type": "execute_result"
    }
   ],
   "source": [
    "import numpy as np\n",
    "array1=np.array([1,2,3,4])\n",
    "array2 = np.array([5,6,7,8])\n",
    "a = array1 + array2\n",
    "b= array1 - array2\n",
    "c= array1 * array2\n",
    "d= array1 / array2\n",
    "a\n",
    "b\n",
    "c\n",
    "d"
   ]
  },
  {
   "cell_type": "markdown",
   "id": "2f3e36f1-da4a-4a92-b811-50c518041d56",
   "metadata": {},
   "source": [
    "### Calculate the mean, median, and standard deviation of a given 1-\r\n",
    "dimensional array. "
   ]
  },
  {
   "cell_type": "code",
   "execution_count": 34,
   "id": "30cdbf19-1dc8-433d-91ec-270e49faf4ac",
   "metadata": {},
   "outputs": [
    {
     "data": {
      "text/plain": [
       "1.118033988749895"
      ]
     },
     "execution_count": 34,
     "metadata": {},
     "output_type": "execute_result"
    }
   ],
   "source": [
    "import numpy as np\n",
    "array = np.array([1,2,3,4])\n",
    "mean = np.mean(array)\n",
    "median = np.median(array)\n",
    "st = np.std(array)\n",
    "mean\n",
    "median\n",
    "st"
   ]
  },
  {
   "cell_type": "markdown",
   "id": "79700efa-75a8-46eb-981a-52f2d444c2ba",
   "metadata": {},
   "source": [
    "### Reshape a 1-dimensional array into a 2-dimensional array of shape (3,\r\n",
    "4)."
   ]
  },
  {
   "cell_type": "code",
   "execution_count": 38,
   "id": "451c656b-1294-48ce-9191-8d4dff866999",
   "metadata": {},
   "outputs": [
    {
     "data": {
      "text/plain": [
       "array([[0.73378419, 0.79424075, 0.12453123, 0.21345917],\n",
       "       [0.36745159, 0.95474677, 0.96149599, 0.23285996],\n",
       "       [0.09399651, 0.38243156, 0.16683221, 0.32239918]])"
      ]
     },
     "execution_count": 38,
     "metadata": {},
     "output_type": "execute_result"
    }
   ],
   "source": [
    "array = np.random.rand(1,12)\n",
    "array_2 = array.reshape(3,4)\n",
    "array_2"
   ]
  },
  {
   "cell_type": "markdown",
   "id": "0c6ce78e-3415-4199-a369-b1de44b9ba23",
   "metadata": {},
   "source": [
    "### 3. Array Indexing and Slicing:"
   ]
  },
  {
   "cell_type": "markdown",
   "id": "09bc7a56-461b-47fb-8cc8-096b92077824",
   "metadata": {},
   "source": [
    "### Extract the first row and last column of a 2-dimensional array."
   ]
  },
  {
   "cell_type": "code",
   "execution_count": 52,
   "id": "e6951b2f-4223-404f-b472-b4a967e9511b",
   "metadata": {},
   "outputs": [
    {
     "data": {
      "text/plain": [
       "array([3, 6, 9])"
      ]
     },
     "execution_count": 52,
     "metadata": {},
     "output_type": "execute_result"
    }
   ],
   "source": [
    "array = np.array([[1,2,3],[4,5,6],[7,8,9]])\n",
    "array[0,:]\n",
    "array[:,-1]"
   ]
  },
  {
   "cell_type": "markdown",
   "id": "47ca9d9f-64ea-46b2-972b-b623f7680986",
   "metadata": {},
   "source": [
    "### Reverse the order of elements in a 1-dimensional array."
   ]
  },
  {
   "cell_type": "code",
   "execution_count": 54,
   "id": "150b37ba-5ce4-40c0-89c6-081c22048ef5",
   "metadata": {},
   "outputs": [
    {
     "data": {
      "text/plain": [
       "array([5, 4, 3, 2, 1])"
      ]
     },
     "execution_count": 54,
     "metadata": {},
     "output_type": "execute_result"
    }
   ],
   "source": [
    "array = np.array([1,2,3,4,5])\n",
    "reversed_array = array[::-1]\n",
    "reversed_array"
   ]
  },
  {
   "cell_type": "code",
   "execution_count": 56,
   "id": "8dc44108-5063-400b-b0de-5a5867c6d6d2",
   "metadata": {},
   "outputs": [
    {
     "data": {
      "text/plain": [
       "array([6, 7, 8, 9])"
      ]
     },
     "execution_count": 56,
     "metadata": {},
     "output_type": "execute_result"
    }
   ],
   "source": [
    "array = np.array([[1,2,3],[4,5,6],[7,8,9]])\n",
    "value = 5\n",
    "value1 = array>value\n",
    "selected_elements = array[value1]\n",
    "selected_elements"
   ]
  },
  {
   "cell_type": "markdown",
   "id": "a741aa8e-13b9-41e9-82c9-46a2324f9800",
   "metadata": {},
   "source": [
    "### Array broadcasting"
   ]
  },
  {
   "cell_type": "code",
   "execution_count": 57,
   "id": "6db94a1e-bf77-4894-a27d-18c52320b711",
   "metadata": {},
   "outputs": [
    {
     "data": {
      "text/plain": [
       "array([[11, 12, 13],\n",
       "       [14, 15, 16],\n",
       "       [17, 18, 19]])"
      ]
     },
     "execution_count": 57,
     "metadata": {},
     "output_type": "execute_result"
    }
   ],
   "source": [
    "array = np.array([[1,2,3],[4,5,6],[7,8,9]])\n",
    "scalar_value = 10\n",
    "array1 = scalar_value + array\n",
    "array1"
   ]
  },
  {
   "cell_type": "markdown",
   "id": "b91f055e-b62a-4020-bcf5-c7ed8d970603",
   "metadata": {},
   "source": [
    "### multiply a 1-dimensional array with a 2-dimensional array,leveraging numpy's broadcasting rule"
   ]
  },
  {
   "cell_type": "code",
   "execution_count": 61,
   "id": "9682163c-bf12-492c-8d39-9fd19e6f0800",
   "metadata": {},
   "outputs": [
    {
     "data": {
      "text/plain": [
       "array([[0.14357289, 0.76938486, 0.81967322, 0.56468568],\n",
       "       [1.66178827, 1.50985442, 0.176932  , 1.84984296],\n",
       "       [0.77178569, 1.74063104, 2.16555758, 1.70323611]])"
      ]
     },
     "execution_count": 61,
     "metadata": {},
     "output_type": "execute_result"
    }
   ],
   "source": [
    "array1 = np.array([1,2,3])\n",
    "array2= np.array([[4,5,6],[7,8,9]])\n",
    "result_array = array1[:,np.newaxis]*array_2d\n",
    "result_array"
   ]
  },
  {
   "cell_type": "markdown",
   "id": "0e6f849d-bdba-48ea-945b-dba5451be369",
   "metadata": {},
   "source": [
    "### linear Algebra "
   ]
  },
  {
   "cell_type": "code",
   "execution_count": 62,
   "id": "899afd33-f70f-4ead-826d-6b537413df93",
   "metadata": {},
   "outputs": [
    {
     "data": {
      "text/plain": [
       "32"
      ]
     },
     "execution_count": 62,
     "metadata": {},
     "output_type": "execute_result"
    }
   ],
   "source": [
    "array1 = np.array([1, 2, 3])\n",
    "array2 = np.array([4, 5, 6])\n",
    "dot_product = np.dot(array1, array2)\n",
    "dot_product"
   ]
  },
  {
   "cell_type": "markdown",
   "id": "e307b7f5-ab26-4791-ae34-5037ef072cfb",
   "metadata": {},
   "source": [
    "### find the inverse and determinant of a square matrix"
   ]
  },
  {
   "cell_type": "code",
   "execution_count": 63,
   "id": "38fc856c-048e-4516-a2f2-188c70af0185",
   "metadata": {},
   "outputs": [
    {
     "data": {
      "text/plain": [
       "-9.51619735392994e-16"
      ]
     },
     "execution_count": 63,
     "metadata": {},
     "output_type": "execute_result"
    }
   ],
   "source": [
    "matrix = np.array([[1, 2, 3],\n",
    "                   [4, 5, 6],\n",
    "                   [7, 8, 9]])\n",
    "determinant = np.linalg.det(matrix)\n",
    "determinant"
   ]
  },
  {
   "cell_type": "code",
   "execution_count": null,
   "id": "ea68466e-47d4-47be-9c36-f6e621161f54",
   "metadata": {},
   "outputs": [],
   "source": []
  }
 ],
 "metadata": {
  "kernelspec": {
   "display_name": "Python 3 (ipykernel)",
   "language": "python",
   "name": "python3"
  },
  "language_info": {
   "codemirror_mode": {
    "name": "ipython",
    "version": 3
   },
   "file_extension": ".py",
   "mimetype": "text/x-python",
   "name": "python",
   "nbconvert_exporter": "python",
   "pygments_lexer": "ipython3",
   "version": "3.11.7"
  }
 },
 "nbformat": 4,
 "nbformat_minor": 5
}
